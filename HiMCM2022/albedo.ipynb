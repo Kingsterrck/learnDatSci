{
 "cells": [
  {
   "cell_type": "code",
   "execution_count": 10,
   "outputs": [
    {
     "name": "stderr",
     "output_type": "stream",
     "text": [
      "C:\\Users\\Kingster\\AppData\\Local\\Temp\\ipykernel_21156\\2686547798.py:8: UserWarning: Matplotlib is currently using module://matplotlib_inline.backend_inline, which is a non-GUI backend, so cannot show the figure.\n",
      "  plot_acf(dat).show()\n"
     ]
    },
    {
     "name": "stdout",
     "output_type": "stream",
     "text": [
      "ADF test results:  (-0.5741415588727888, 0.8767185818814236, 5, 9, {'1%': -4.473135048010974, '5%': -3.28988060356653, '10%': -2.7723823456790124}, -71.51441249383436)\n"
     ]
    },
    {
     "data": {
      "text/plain": "<Figure size 432x288 with 1 Axes>",
      "image/png": "[encoded data removed]"
     },
     "metadata": {
      "needs_background": "light"
     },
     "output_type": "display_data"
    }
   ],
   "source": [
    "import pandas as pd\n",
    "import numpy as np\n",
    "from statsmodels.tsa.stattools import adfuller as ADF\n",
    "from statsmodels.graphics.tsaplots import plot_acf\n",
    "\n",
    "data = pd.read_csv(\"albedo.csv\")\n",
    "dat = np.diff(data[\"Albedo\"],1)\n",
    "plot_acf(dat).show()\n",
    "print(\"ADF test results: \",ADF(dat))"
   ],
   "metadata": {
    "collapsed": false,
    "pycharm": {
     "name": "#%%\n"
    }
   }
  },
  {
   "cell_type": "code",
   "execution_count": 3,
   "outputs": [
    {
     "name": "stderr",
     "output_type": "stream",
     "text": [
      "C:\\Users\\Kingster\\anaconda3\\lib\\site-packages\\statsmodels\\tsa\\statespace\\sarimax.py:978: UserWarning: Non-invertible starting MA parameters found. Using zeros as starting parameters.\n",
      "  warn('Non-invertible starting MA parameters found.'\n"
     ]
    },
    {
     "name": "stdout",
     "output_type": "stream",
     "text": [
      "[[-85.57607304788223, -95.66208408932582], [-103.60787978113777, -100.95677668603567]]\n"
     ]
    },
    {
     "name": "stderr",
     "output_type": "stream",
     "text": [
      "C:\\Users\\Kingster\\anaconda3\\lib\\site-packages\\statsmodels\\base\\model.py:604: ConvergenceWarning: Maximum Likelihood optimization failed to converge. Check mle_retvals\n",
      "  warnings.warn(\"Maximum Likelihood optimization failed to \"\n"
     ]
    }
   ],
   "source": [
    "from statsmodels.tsa.arima.model import ARIMA\n",
    "import pandas as pd\n",
    "\n",
    "data = pd.read_csv(\"albedo.csv\")\n",
    "\n",
    "bic_matrix = []\n",
    "for p in range(2):\n",
    "    temp = []\n",
    "    for q in range(2):\n",
    "        try:\n",
    "            temp.append(ARIMA(data[\"Albedo\"],order=(p,0,q)).fit().bic)\n",
    "        except:\n",
    "            temp.append(None)\n",
    "    bic_matrix.append(temp)\n",
    "\n",
    "print(bic_matrix)"
   ],
   "metadata": {
    "collapsed": false,
    "pycharm": {
     "name": "#%%\n"
    }
   }
  },
  {
   "cell_type": "code",
   "execution_count": 13,
   "outputs": [
    {
     "name": "stdout",
     "output_type": "stream",
     "text": [
      "                               SARIMAX Results                                \n",
      "==============================================================================\n",
      "Dep. Variable:                 Albedo   No. Observations:                   17\n",
      "Model:                 ARIMA(1, 1, 0)   Log Likelihood                  52.325\n",
      "Date:                Sun, 13 Nov 2022   AIC                           -100.650\n",
      "Time:                        16:41:32   BIC                            -99.105\n",
      "Sample:                             0   HQIC                          -100.571\n",
      "                                 - 17                                         \n",
      "Covariance Type:                  opg                                         \n",
      "==============================================================================\n",
      "                 coef    std err          z      P>|z|      [0.025      0.975]\n",
      "------------------------------------------------------------------------------\n",
      "ar.L1         -0.0040      0.243     -0.017      0.987      -0.480       0.472\n",
      "sigma2      8.448e-05   3.66e-05      2.309      0.021    1.28e-05       0.000\n",
      "===================================================================================\n",
      "Ljung-Box (L1) (Q):                   0.01   Jarque-Bera (JB):                 0.29\n",
      "Prob(Q):                              0.92   Prob(JB):                         0.86\n",
      "Heteroskedasticity (H):               2.51   Skew:                             0.06\n",
      "Prob(H) (two-sided):                  0.34   Kurtosis:                         2.35\n",
      "===================================================================================\n",
      "\n",
      "Warnings:\n",
      "[1] Covariance matrix calculated using the outer product of gradients (complex-step).\n",
      "17    0.410764\n",
      "18    0.410764\n",
      "19    0.410764\n",
      "20    0.410764\n",
      "21    0.410764\n",
      "22    0.410764\n",
      "23    0.410764\n",
      "Name: predicted_mean, dtype: float64\n"
     ]
    },
    {
     "data": {
      "text/plain": "<Figure size 432x288 with 1 Axes>",
      "image/png": "[encoded data removed]"
     },
     "metadata": {},
     "output_type": "display_data"
    }
   ],
   "source": [
    "import pandas as pd\n",
    "import numpy as np\n",
    "import matplotlib.pyplot as plt\n",
    "from statsmodels.tsa.arima.model import ARIMA\n",
    "\n",
    "data = pd.read_csv(\"albedo.csv\")\n",
    "\n",
    "model = ARIMA(data[\"Albedo\"],order=(1,1,0)).fit()\n",
    "print(model.summary())\n",
    "\n",
    "fig = plt.figure()\n",
    "fig.set_facecolor(\"white\")\n",
    "ax = fig.add_subplot(111)\n",
    "ax.grid(True)\n",
    "ax.plot(data[\"Albedo\"],color=\"blue\",label=\"real values\")\n",
    "ax.plot(model.fittedvalues, color=\"red\",label=\"fitted values\")\n",
    "ax.plot(model.forecast(20),color=\"green\",label=\"future predictions\")\n",
    "plt.xlim([3,130])\n",
    "plt.ylim([0.3,0.6])\n",
    "plt.xlabel(\"year\")\n",
    "plt.ylabel(\"\")\n",
    "plt.legend(loc=\"best\")\n",
    "print(model.forecast(7))"
   ],
   "metadata": {
    "collapsed": false,
    "pycharm": {
     "name": "#%%\n"
    }
   }
  },
  {
   "cell_type": "code",
   "execution_count": null,
   "outputs": [],
   "source": [],
   "metadata": {
    "collapsed": false,
    "pycharm": {
     "name": "#%%\n"
    }
   }
  }
 ],
 "metadata": {
  "kernelspec": {
   "display_name": "Python 3",
   "language": "python",
   "name": "python3"
  },
  "language_info": {
   "codemirror_mode": {
    "name": "ipython",
    "version": 2
   },
   "file_extension": ".py",
   "mimetype": "text/x-python",
   "name": "python",
   "nbconvert_exporter": "python",
   "pygments_lexer": "ipython2",
   "version": "2.7.6"
  }
 },
 "nbformat": 4,
 "nbformat_minor": 0
}