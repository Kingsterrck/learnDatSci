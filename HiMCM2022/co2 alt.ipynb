{
 "cells": [
  {
   "cell_type": "code",
   "execution_count": null,
   "metadata": {
    "collapsed": true,
    "pycharm": {
     "name": "#%%\n"
    }
   },
   "outputs": [],
   "source": [
    "import pandas as pd\n",
    "import numpy as np\n",
    "from statsmodels.tsa.stattools import adfuller as ADF\n",
    "from statsmodels.graphics.tsaplots import plot_acf\n",
    "import statsmodels.api as sm\n",
    "import matplotlib.pyplot as plt\n",
    "dat = pd.read_csv(\"co2level.csv\")\n",
    "\n",
    "ppm = np.diff(dat[\"PPM\"],2)\n",
    "year = dat[\"Year\"].tail(61)\n",
    "\n",
    "# plot_acf(ppm).show()\n",
    "# print(\"ADF test results: \",ADF(ppm))\n",
    "# from statsmodels.stats.diagnostic import acorr_ljungbox\n",
    "# print(\"background noise test results:\",acorr_ljungbox(ppm,lags=1))\n",
    "\n",
    "from statsmodels.tsa.arima.model import ARIMA\n",
    "\n",
    "# ppm = ppm.astype(float)\n",
    "# bic_matrix = []\n",
    "# for p in range(7):\n",
    "#     temp = []\n",
    "#     for q in range(7):\n",
    "#          try:\n",
    "#             temp.append(ARIMA(ppm,order=(p,2,q)).fit().bic)\n",
    "#          except:\n",
    "#             temp.append(None)\n",
    "#     bic_matrix.append(temp)\n",
    "#\n",
    "# print(bic_matrix)\n",
    "#\n",
    "# bic_matrix = pd.dataFrame(bic_matrix)\n",
    "# p,q = bic_matrix.idxmin()\n",
    "# print(p,\" \",q)\n",
    "\n",
    "# best is (0,2,3)\n",
    "\n",
    "model = ARIMA(dat[\"PPM\"],order=(0,2,3)).fit()\n",
    "model.summary()\n",
    "#model.forecast(5)\n",
    "\n",
    "fig = plt.figure()\n",
    "ax = fig.add_subplot(111)\n",
    "ax.plot(dat[\"PPM\"],color=\"blue\",label=\"real value\")\n",
    "ax.plot(model.fittedvalues, color=\"red\",label=\"predicted value\")\n",
    "ax.plot(model.forecast(79), color=\"green\",label=\"predicted future\")\n",
    "plt.legend(loc=\"lower right\")\n",
    "plt.xlim([5,180])\n",
    "plt.ylim([300,700])\n",
    "\n",
    "# plt.savefig(\"omg.png\",dpi=500)\n",
    "\n",
    "print(\"PPM in 2021: \",dat[\"PPM\"][62])\n",
    "print(\"PPM in 2050, forecasted: \",model.forecast(29)[91])\n",
    "print(\"PPM in 2100, forecasted: \",model.forecast(79)[141])\n",
    "# 1959"
   ]
  }
 ],
 "metadata": {
  "kernelspec": {
   "display_name": "Python 3",
   "language": "python",
   "name": "python3"
  },
  "language_info": {
   "codemirror_mode": {
    "name": "ipython",
    "version": 2
   },
   "file_extension": ".py",
   "mimetype": "text/x-python",
   "name": "python",
   "nbconvert_exporter": "python",
   "pygments_lexer": "ipython2",
   "version": "2.7.6"
  }
 },
 "nbformat": 4,
 "nbformat_minor": 0
}