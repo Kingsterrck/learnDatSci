{
 "cells": [
  {
   "cell_type": "code",
   "execution_count": 3,
   "metadata": {
    "collapsed": true,
    "pycharm": {
     "name": "#%%\n"
    }
   },
   "outputs": [
    {
     "data": {
      "text/plain": "[<matplotlib.lines.Line2D at 0x2768fa433d0>]"
     },
     "execution_count": 3,
     "metadata": {},
     "output_type": "execute_result"
    },
    {
     "data": {
      "text/plain": "<Figure size 432x288 with 1 Axes>",
      "image/png": "[encoded data removed]"
     },
     "metadata": {
      "needs_background": "light"
     },
     "output_type": "display_data"
    }
   ],
   "source": [
    "import numpy as np\n",
    "import matplotlib.pyplot as plt\n",
    "import pandas as pd\n",
    "dat = pd.read_csv(\"co2level.csv\")\n",
    "year = dat[\"Year\"]\n",
    "ppm = dat[\"PPM\"]\n",
    "plt.plot(year,ppm)"
   ]
  },
  {
   "cell_type": "code",
   "execution_count": 2,
   "outputs": [
    {
     "name": "stderr",
     "output_type": "stream",
     "text": [
      "C:\\Users\\Kingster\\anaconda3\\lib\\site-packages\\statsmodels\\tsa\\base\\tsa_model.py:471: ValueWarning: An unsupported index was provided and will be ignored when e.g. forecasting.\n",
      "  self._init_dates(dates, freq)\n",
      "C:\\Users\\Kingster\\anaconda3\\lib\\site-packages\\statsmodels\\tsa\\base\\tsa_model.py:471: ValueWarning: An unsupported index was provided and will be ignored when e.g. forecasting.\n",
      "  self._init_dates(dates, freq)\n",
      "C:\\Users\\Kingster\\anaconda3\\lib\\site-packages\\statsmodels\\tsa\\base\\tsa_model.py:471: ValueWarning: An unsupported index was provided and will be ignored when e.g. forecasting.\n",
      "  self._init_dates(dates, freq)\n"
     ]
    },
    {
     "name": "stdout",
     "output_type": "stream",
     "text": [
      "                               SARIMAX Results                                \n",
      "==============================================================================\n",
      "Dep. Variable:                      y   No. Observations:                   63\n",
      "Model:                 ARIMA(0, 2, 3)   Log Likelihood                 -41.851\n",
      "Date:                Fri, 11 Nov 2022   AIC                             91.702\n",
      "Time:                        20:13:59   BIC                            100.146\n",
      "Sample:                             0   HQIC                            95.011\n",
      "                                 - 63                                         \n",
      "Covariance Type:                  opg                                         \n",
      "==============================================================================\n",
      "                 coef    std err          z      P>|z|      [0.025      0.975]\n",
      "------------------------------------------------------------------------------\n",
      "ma.L1         -0.7749      0.147     -5.272      0.000      -1.063      -0.487\n",
      "ma.L2         -0.2050      0.193     -1.063      0.288      -0.583       0.173\n",
      "ma.L3          0.2401      0.128      1.876      0.061      -0.011       0.491\n",
      "sigma2         0.2266      0.038      5.990      0.000       0.152       0.301\n",
      "===================================================================================\n",
      "Ljung-Box (L1) (Q):                   0.30   Jarque-Bera (JB):                 7.04\n",
      "Prob(Q):                              0.59   Prob(JB):                         0.03\n",
      "Heteroskedasticity (H):               0.76   Skew:                             0.74\n",
      "Prob(H) (two-sided):                  0.55   Kurtosis:                         3.78\n",
      "===================================================================================\n",
      "\n",
      "Warnings:\n",
      "[1] Covariance matrix calculated using the outer product of gradients (complex-step).\n",
      "PPM in 2021:  416.45\n",
      "PPM in 2030, forecasted:  438.9383151676094\n",
      "PPM in 2040, forecasted:  463.8487583771615\n",
      "PPM in 2050, forecasted:  488.75920158671363\n",
      "PPM in 2075, forecasted:  551.0353096105939\n",
      "PPM in 2100, forecasted:  613.3114176344742\n",
      "685 PPM, forecasted:  685.5517029421753\n"
     ]
    },
    {
     "name": "stderr",
     "output_type": "stream",
     "text": [
      "C:\\Users\\Kingster\\anaconda3\\lib\\site-packages\\statsmodels\\tsa\\base\\tsa_model.py:834: ValueWarning: No supported index is available. Prediction results will be given with an integer index beginning at `start`.\n",
      "  return get_prediction_index(\n",
      "C:\\Users\\Kingster\\anaconda3\\lib\\site-packages\\statsmodels\\tsa\\base\\tsa_model.py:834: ValueWarning: No supported index is available. Prediction results will be given with an integer index beginning at `start`.\n",
      "  return get_prediction_index(\n",
      "C:\\Users\\Kingster\\anaconda3\\lib\\site-packages\\statsmodels\\tsa\\base\\tsa_model.py:834: ValueWarning: No supported index is available. Prediction results will be given with an integer index beginning at `start`.\n",
      "  return get_prediction_index(\n",
      "C:\\Users\\Kingster\\anaconda3\\lib\\site-packages\\statsmodels\\tsa\\base\\tsa_model.py:834: ValueWarning: No supported index is available. Prediction results will be given with an integer index beginning at `start`.\n",
      "  return get_prediction_index(\n",
      "C:\\Users\\Kingster\\anaconda3\\lib\\site-packages\\statsmodels\\tsa\\base\\tsa_model.py:834: ValueWarning: No supported index is available. Prediction results will be given with an integer index beginning at `start`.\n",
      "  return get_prediction_index(\n",
      "C:\\Users\\Kingster\\anaconda3\\lib\\site-packages\\statsmodels\\tsa\\base\\tsa_model.py:834: ValueWarning: No supported index is available. Prediction results will be given with an integer index beginning at `start`.\n",
      "  return get_prediction_index(\n",
      "C:\\Users\\Kingster\\anaconda3\\lib\\site-packages\\statsmodels\\tsa\\base\\tsa_model.py:834: ValueWarning: No supported index is available. Prediction results will be given with an integer index beginning at `start`.\n",
      "  return get_prediction_index(\n"
     ]
    },
    {
     "data": {
      "text/plain": "<Figure size 432x288 with 1 Axes>",
      "image/png": "[encoded data removed]"
     },
     "metadata": {},
     "output_type": "display_data"
    }
   ],
   "source": [
    "import pandas as pd\n",
    "import numpy as np\n",
    "from statsmodels.tsa.stattools import adfuller as ADF\n",
    "from statsmodels.graphics.tsaplots import plot_acf\n",
    "import statsmodels.api as sm\n",
    "import matplotlib.pyplot as plt\n",
    "dat = pd.read_csv(\"co2level.csv\")\n",
    "\n",
    "ppm = np.diff(dat[\"PPM\"],2)\n",
    "year = dat[\"Year\"].tail(61)\n",
    "\n",
    "# plot_acf(ppm).show()\n",
    "# print(\"ADF test results: \",ADF(ppm))\n",
    "\n",
    "\n",
    "from statsmodels.stats.diagnostic import acorr_ljungbox\n",
    "# print(\"background noise test results:\",acorr_ljungbox(ppm,lags=1))\n",
    "\n",
    "from statsmodels.tsa.arima.model import ARIMA\n",
    "\n",
    "# ppm = ppm.astype(float)\n",
    "# bic_matrix = []\n",
    "# for p in range(7):\n",
    "#     temp = []\n",
    "#     for q in range(7):\n",
    "#          try:\n",
    "#             temp.append(ARIMA(ppm,order=(p,2,q)).fit().bic)\n",
    "#          except:\n",
    "#             temp.append(None)\n",
    "#     bic_matrix.append(temp)\n",
    "#\n",
    "# print(bic_matrix)\n",
    "#\n",
    "# bic_matrix = pd.dataFrame(bic_matrix)\n",
    "# p,q = bic_matrix.idxmin()\n",
    "# print(p,\" \",q)\n",
    "\n",
    "# best is (0,2,3)\n",
    "temp = []\n",
    "for i in dat[\"PPM\"]:\n",
    "    temp.append(i)\n",
    "\n",
    "newppm = pd.Series(temp,index=dat[\"Year\"])\n",
    "\n",
    "model = ARIMA(newppm,order=(0,2,3)).fit()\n",
    "print(model.summary())\n",
    "\n",
    "# vals = model.fittedvalues\n",
    "# temp = []\n",
    "# for i in vals:\n",
    "#     temp.append(i)\n",
    "# this = pd.Series(temp,index=dat[\"Year\"])\n",
    "# #model.forecast(5)\n",
    "# forecas = model.forecast(79)\n",
    "# forecastStorage = [[],[]]\n",
    "# for i in range(79):\n",
    "#    forecastStorage[0].append(forecas[i][1])\n",
    "#     forecastStorage[1].append(i+2022)\n",
    "# print(forecas)\n",
    "\n",
    "fig = plt.figure()\n",
    "fig.set_facecolor(\"white\")\n",
    "ax = fig.add_subplot(111)\n",
    "ax.grid(True)\n",
    "ax.plot(newppm,color=\"blue\",label=\"real values\")\n",
    "ax.plot(model.fittedvalues, color=\"red\",label=\"fitted values\")\n",
    "this = model.forecast(82)\n",
    "temp = []\n",
    "for i in this:\n",
    "    temp.append(i)\n",
    "temp2 = []\n",
    "for i in range(2022,2104):\n",
    "    temp2.append(i)\n",
    "forc = pd.Series(temp,index=temp2)\n",
    "ax.plot(forc, color=\"green\",label=\"future predictions\")\n",
    "plt.legend(loc=\"lower right\")\n",
    "plt.xlim([1963,2110])\n",
    "plt.ylim([300,650])\n",
    "plt.title(\"ARIMA fitted values and predictions\")\n",
    "plt.ylabel(\"PPM\")\n",
    "plt.xlabel(\"Year\")\n",
    "# plt.savefig(\"future.png\",dpi=300)\n",
    "\n",
    "# plt.savefig(\"omg.png\",dpi=500)\n",
    "\n",
    "print(\"PPM in 2021: \",dat[\"PPM\"][62])\n",
    "print(\"PPM in 2030, forecasted: \",model.forecast(9)[71])\n",
    "print(\"PPM in 2040, forecasted: \",model.forecast(19)[81])\n",
    "print(\"PPM in 2050, forecasted: \",model.forecast(29)[91])\n",
    "print(\"PPM in 2075, forecasted: \",model.forecast(54)[116])\n",
    "print(\"PPM in 2100, forecasted: \",model.forecast(79)[141])\n",
    "print(\"685 PPM, forecasted: \",model.forecast(108)[170])\n",
    "# 1959"
   ],
   "metadata": {
    "collapsed": false,
    "pycharm": {
     "name": "#%%\n"
    }
   }
  },
  {
   "cell_type": "code",
   "execution_count": 117,
   "outputs": [
    {
     "name": "stderr",
     "output_type": "stream",
     "text": [
      "C:\\Users\\Kingster\\AppData\\Local\\Temp\\ipykernel_5936\\3646981894.py:9: UserWarning: Matplotlib is currently using module://matplotlib_inline.backend_inline, which is a non-GUI backend, so cannot show the figure.\n",
      "  plot_acf(ppm).show()\n"
     ]
    },
    {
     "name": "stdout",
     "output_type": "stream",
     "text": [
      "ADF test statistic:  -5.73305330647872\n",
      "ADF test p-value:  6.532757429063579e-07\n",
      "ljung-box test results:     lb_stat  lb_pvalue\n",
      "1  9.267213   0.002333\n"
     ]
    },
    {
     "data": {
      "text/plain": "<Figure size 432x288 with 1 Axes>",
      "image/png": "[encoded data removed]"
     },
     "metadata": {
      "needs_background": "light"
     },
     "output_type": "display_data"
    }
   ],
   "source": [
    "# THIS IS ADF TEST COMPONENT\n",
    "\n",
    "import pandas as pd\n",
    "import numpy as np\n",
    "from statsmodels.tsa.stattools import adfuller as ADF\n",
    "from statsmodels.graphics.tsaplots import plot_acf\n",
    "data = pd.read_csv(\"co2level.csv\")\n",
    "ppm = np.diff(data[\"PPM\"],2)\n",
    "plot_acf(ppm).show()\n",
    "print(\"ADF test statistic: \",ADF(ppm)[0])\n",
    "print(\"ADF test p-value: \",ADF(ppm)[1])\n",
    "print(\"ljung-box test results:\",acorr_ljungbox(ppm,lags=1))"
   ],
   "metadata": {
    "collapsed": false,
    "pycharm": {
     "name": "#%%\n"
    }
   }
  },
  {
   "cell_type": "code",
   "execution_count": 102,
   "outputs": [
    {
     "name": "stdout",
     "output_type": "stream",
     "text": [
      "test results:      lb_stat  lb_pvalue\n",
      "1   9.267213   0.002333\n",
      "2  15.276589   0.000482\n",
      "3  17.433442   0.000576\n",
      "4  20.112075   0.000475\n",
      "5  23.663740   0.000252\n"
     ]
    }
   ],
   "source": [
    "# THIS IS LJUNG BOX TEST\n",
    "from statsmodels.stats.diagnostic import acorr_ljungbox\n",
    "import pandas as pd\n",
    "import numpy as np\n",
    "data = pd.read_csv(\"co2level.csv\")\n",
    "ppm = np.diff(data[\"PPM\"],2)\n",
    "print(\"test results:\",acorr_ljungbox(ppm,lags=5))"
   ],
   "metadata": {
    "collapsed": false,
    "pycharm": {
     "name": "#%%\n"
    }
   }
  },
  {
   "cell_type": "code",
   "execution_count": null,
   "outputs": [],
   "source": [],
   "metadata": {
    "collapsed": false,
    "pycharm": {
     "name": "#%%\n"
    }
   }
  }
 ],
 "metadata": {
  "kernelspec": {
   "display_name": "Python 3",
   "language": "python",
   "name": "python3"
  },
  "language_info": {
   "codemirror_mode": {
    "name": "ipython",
    "version": 2
   },
   "file_extension": ".py",
   "mimetype": "text/x-python",
   "name": "python",
   "nbconvert_exporter": "python",
   "pygments_lexer": "ipython2",
   "version": "2.7.6"
  }
 },
 "nbformat": 4,
 "nbformat_minor": 0
}