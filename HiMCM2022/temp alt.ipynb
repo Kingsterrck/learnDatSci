{
 "cells": [
  {
   "cell_type": "code",
   "execution_count": 5,
   "outputs": [
    {
     "name": "stderr",
     "output_type": "stream",
     "text": [
      "C:\\Users\\Kingster\\anaconda3\\lib\\site-packages\\statsmodels\\tsa\\base\\tsa_model.py:471: ValueWarning: An unsupported index was provided and will be ignored when e.g. forecasting.\n",
      "  self._init_dates(dates, freq)\n",
      "C:\\Users\\Kingster\\anaconda3\\lib\\site-packages\\statsmodels\\tsa\\base\\tsa_model.py:471: ValueWarning: An unsupported index was provided and will be ignored when e.g. forecasting.\n",
      "  self._init_dates(dates, freq)\n",
      "C:\\Users\\Kingster\\anaconda3\\lib\\site-packages\\statsmodels\\tsa\\base\\tsa_model.py:471: ValueWarning: An unsupported index was provided and will be ignored when e.g. forecasting.\n",
      "  self._init_dates(dates, freq)\n",
      "C:\\Users\\Kingster\\anaconda3\\lib\\site-packages\\statsmodels\\tsa\\base\\tsa_model.py:834: ValueWarning: No supported index is available. Prediction results will be given with an integer index beginning at `start`.\n",
      "  return get_prediction_index(\n"
     ]
    },
    {
     "name": "stdout",
     "output_type": "stream",
     "text": [
      "                               SARIMAX Results                                \n",
      "==============================================================================\n",
      "Dep. Variable:                      y   No. Observations:                   64\n",
      "Model:                 ARIMA(0, 1, 1)   Log Likelihood                  51.100\n",
      "Date:                Tue, 08 Nov 2022   AIC                            -98.201\n",
      "Time:                        18:12:22   BIC                            -93.914\n",
      "Sample:                             0   HQIC                           -96.515\n",
      "                                 - 64                                         \n",
      "Covariance Type:                  opg                                         \n",
      "==============================================================================\n",
      "                 coef    std err          z      P>|z|      [0.025      0.975]\n",
      "------------------------------------------------------------------------------\n",
      "ma.L1         -0.4841      0.112     -4.324      0.000      -0.704      -0.265\n",
      "sigma2         0.0115      0.003      4.544      0.000       0.007       0.016\n",
      "===================================================================================\n",
      "Ljung-Box (L1) (Q):                   0.09   Jarque-Bera (JB):                 1.18\n",
      "Prob(Q):                              0.76   Prob(JB):                         0.56\n",
      "Heteroskedasticity (H):               0.97   Skew:                            -0.16\n",
      "Prob(H) (two-sided):                  0.95   Kurtosis:                         2.41\n",
      "===================================================================================\n",
      "\n",
      "Warnings:\n",
      "[1] Covariance matrix calculated using the outer product of gradients (complex-step).\n",
      "64    0.904732\n",
      "65    0.904732\n",
      "66    0.904732\n",
      "67    0.904732\n",
      "68    0.904732\n",
      "69    0.904732\n",
      "70    0.904732\n",
      "71    0.904732\n",
      "72    0.904732\n",
      "73    0.904732\n",
      "Name: predicted_mean, dtype: float64\n"
     ]
    },
    {
     "data": {
      "text/plain": "<matplotlib.legend.Legend at 0x2499356f8b0>"
     },
     "execution_count": 5,
     "metadata": {},
     "output_type": "execute_result"
    },
    {
     "data": {
      "text/plain": "<Figure size 432x288 with 1 Axes>",
      "image/png": "[encoded data removed]"
     },
     "metadata": {},
     "output_type": "display_data"
    }
   ],
   "source": [
    "import pandas as pd\n",
    "import numpy as np\n",
    "from statsmodels.tsa.arima.model import ARIMA\n",
    "import statsmodels.api as sm\n",
    "import matplotlib.pyplot as plt\n",
    "cs = pd.read_csv(\"temperature.csv\")\n",
    "tempArr = []\n",
    "for i in cs[\"Degrees C\"]:\n",
    "    tempArr.append(i)\n",
    "yr = []\n",
    "for i in range(1958,2022):\n",
    "    yr.append(i)\n",
    "data = pd.Series(tempArr,index = yr)\n",
    "\n",
    "model = ARIMA(data,order=(0,1,1)).fit()\n",
    "print(model.summary())\n",
    "\n",
    "fig = plt.figure()\n",
    "fig.set_facecolor(\"white\")\n",
    "ax = fig.add_subplot(111)\n",
    "ax.grid(True)\n",
    "ax.plot(data,color=\"blue\",label=\"real values\")\n",
    "ax.plot(model.fittedvalues, color=\"red\",label=\"fitted values\")\n",
    "\n",
    "print(model.forecast(10))\n",
    "# this = model.forecast(82)\n",
    "# temp = []\n",
    "# for i in this:\n",
    "#     temp.append(i)\n",
    "# temp2 = []\n",
    "# for i in range(2022,2104):\n",
    "#     temp2.append(i)\n",
    "# forc = pd.Series(temp,index=temp2)\n",
    "# ax.plot(forc, color=\"green\",label=\"future predictions\")\n",
    "\n",
    "plt.legend(loc=\"lower right\")"
   ],
   "metadata": {
    "collapsed": false,
    "pycharm": {
     "name": "#%%\n"
    }
   }
  },
  {
   "cell_type": "code",
   "execution_count": 8,
   "outputs": [
    {
     "ename": "ValueError",
     "evalue": "You must specify a period or x must be a pandas object with a PeriodIndex or a DatetimeIndex with a freq not set to None",
     "output_type": "error",
     "traceback": [
      "\u001B[1;31m---------------------------------------------------------------------------\u001B[0m",
      "\u001B[1;31mValueError\u001B[0m                                Traceback (most recent call last)",
      "Input \u001B[1;32mIn [8]\u001B[0m, in \u001B[0;36m<cell line: 15>\u001B[1;34m()\u001B[0m\n\u001B[0;32m     12\u001B[0m     yr\u001B[38;5;241m.\u001B[39mappend(i)\n\u001B[0;32m     13\u001B[0m data \u001B[38;5;241m=\u001B[39m pd\u001B[38;5;241m.\u001B[39mSeries(tempArr,index \u001B[38;5;241m=\u001B[39m yr)\n\u001B[1;32m---> 15\u001B[0m decomposition \u001B[38;5;241m=\u001B[39m \u001B[43msm\u001B[49m\u001B[38;5;241;43m.\u001B[39;49m\u001B[43mtsa\u001B[49m\u001B[38;5;241;43m.\u001B[39;49m\u001B[43mseasonal_decompose\u001B[49m\u001B[43m(\u001B[49m\u001B[43mdata\u001B[49m\u001B[43m,\u001B[49m\u001B[43mmodel\u001B[49m\u001B[38;5;241;43m=\u001B[39;49m\u001B[38;5;124;43m'\u001B[39;49m\u001B[38;5;124;43madditive\u001B[39;49m\u001B[38;5;124;43m'\u001B[39;49m\u001B[43m,\u001B[49m\u001B[43mextrapolate_trend\u001B[49m\u001B[38;5;241;43m=\u001B[39;49m\u001B[38;5;241;43m5\u001B[39;49m\u001B[43m)\u001B[49m\n\u001B[0;32m     16\u001B[0m plt\u001B[38;5;241m.\u001B[39mrc(\u001B[38;5;124m'\u001B[39m\u001B[38;5;124mfigure\u001B[39m\u001B[38;5;124m'\u001B[39m,figsize\u001B[38;5;241m=\u001B[39m(\u001B[38;5;241m12\u001B[39m,\u001B[38;5;241m8\u001B[39m))\n\u001B[0;32m     17\u001B[0m fig\u001B[38;5;241m=\u001B[39mdecomposition\u001B[38;5;241m.\u001B[39mplot()\n",
      "File \u001B[1;32m~\\anaconda3\\lib\\site-packages\\statsmodels\\tsa\\seasonal.py:159\u001B[0m, in \u001B[0;36mseasonal_decompose\u001B[1;34m(x, model, filt, period, two_sided, extrapolate_trend)\u001B[0m\n\u001B[0;32m    157\u001B[0m         period \u001B[38;5;241m=\u001B[39m pfreq\n\u001B[0;32m    158\u001B[0m     \u001B[38;5;28;01melse\u001B[39;00m:\n\u001B[1;32m--> 159\u001B[0m         \u001B[38;5;28;01mraise\u001B[39;00m \u001B[38;5;167;01mValueError\u001B[39;00m(\n\u001B[0;32m    160\u001B[0m             \u001B[38;5;124m\"\u001B[39m\u001B[38;5;124mYou must specify a period or x must be a pandas object with \u001B[39m\u001B[38;5;124m\"\u001B[39m\n\u001B[0;32m    161\u001B[0m             \u001B[38;5;124m\"\u001B[39m\u001B[38;5;124ma PeriodIndex or a DatetimeIndex with a freq not set to None\u001B[39m\u001B[38;5;124m\"\u001B[39m\n\u001B[0;32m    162\u001B[0m         )\n\u001B[0;32m    163\u001B[0m \u001B[38;5;28;01mif\u001B[39;00m x\u001B[38;5;241m.\u001B[39mshape[\u001B[38;5;241m0\u001B[39m] \u001B[38;5;241m<\u001B[39m \u001B[38;5;241m2\u001B[39m \u001B[38;5;241m*\u001B[39m pfreq:\n\u001B[0;32m    164\u001B[0m     \u001B[38;5;28;01mraise\u001B[39;00m \u001B[38;5;167;01mValueError\u001B[39;00m(\n\u001B[0;32m    165\u001B[0m         \u001B[38;5;124mf\u001B[39m\u001B[38;5;124m\"\u001B[39m\u001B[38;5;124mx must have 2 complete cycles requires \u001B[39m\u001B[38;5;132;01m{\u001B[39;00m\u001B[38;5;241m2\u001B[39m \u001B[38;5;241m*\u001B[39m pfreq\u001B[38;5;132;01m}\u001B[39;00m\u001B[38;5;124m \u001B[39m\u001B[38;5;124m\"\u001B[39m\n\u001B[0;32m    166\u001B[0m         \u001B[38;5;124mf\u001B[39m\u001B[38;5;124m\"\u001B[39m\u001B[38;5;124mobservations. x only has \u001B[39m\u001B[38;5;132;01m{\u001B[39;00mx\u001B[38;5;241m.\u001B[39mshape[\u001B[38;5;241m0\u001B[39m]\u001B[38;5;132;01m}\u001B[39;00m\u001B[38;5;124m observation(s)\u001B[39m\u001B[38;5;124m\"\u001B[39m\n\u001B[0;32m    167\u001B[0m     )\n",
      "\u001B[1;31mValueError\u001B[0m: You must specify a period or x must be a pandas object with a PeriodIndex or a DatetimeIndex with a freq not set to None"
     ]
    }
   ],
   "source": [
    "import pandas as pd\n",
    "import numpy as np\n",
    "from statsmodels.tsa.arima.model import ARIMA\n",
    "import statsmodels.api as sm\n",
    "import matplotlib.pyplot as plt\n",
    "cs = pd.read_csv(\"temperature.csv\")\n",
    "tempArr = []\n",
    "for i in cs[\"Degrees C\"]:\n",
    "    tempArr.append(i)\n",
    "yr = []\n",
    "for i in range(1958,2022):\n",
    "    yr.append(i)\n",
    "data = pd.Series(tempArr,index = yr)\n",
    "\n",
    "decomposition = sm.tsa.seasonal_decompose(data,model='additive',extrapolate_trend='freq')\n",
    "plt.rc('figure',figsize=(12,8))\n",
    "fig=decomposition.plot()\n",
    "plt.show()"
   ],
   "metadata": {
    "collapsed": false,
    "pycharm": {
     "name": "#%%\n"
    }
   }
  },
  {
   "cell_type": "code",
   "execution_count": null,
   "outputs": [],
   "source": [],
   "metadata": {
    "collapsed": false,
    "pycharm": {
     "name": "#%%\n"
    }
   }
  }
 ],
 "metadata": {
  "kernelspec": {
   "display_name": "Python 3",
   "language": "python",
   "name": "python3"
  },
  "language_info": {
   "codemirror_mode": {
    "name": "ipython",
    "version": 2
   },
   "file_extension": ".py",
   "mimetype": "text/x-python",
   "name": "python",
   "nbconvert_exporter": "python",
   "pygments_lexer": "ipython2",
   "version": "2.7.6"
  }
 },
 "nbformat": 4,
 "nbformat_minor": 0
}