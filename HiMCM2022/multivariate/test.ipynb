{
 "cells": [
  {
   "cell_type": "code",
   "execution_count": 15,
   "outputs": [
    {
     "name": "stdout",
     "output_type": "stream",
     "text": [
      "-0.09609317988765671\n",
      "[-2.14129341 -3.8148083  -0.00819803]\n"
     ]
    },
    {
     "data": {
      "text/plain": "[('x1', -2.141293414952163),\n ('x2', -3.814808300726631),\n ('x3', -0.008198029739076951)]"
     },
     "execution_count": 15,
     "metadata": {},
     "output_type": "execute_result"
    }
   ],
   "source": [
    "import pandas as pd\n",
    "import numpy as np\n",
    "import matplotlib.pyplot as plt\n",
    "import seaborn as sns\n",
    "from sklearn import preprocessing, svm\n",
    "from sklearn.model_selection import train_test_split\n",
    "from sklearn.linear_model import LinearRegression\n",
    "\n",
    "\n",
    "data = pd.read_csv(\"mult.csv\")\n",
    "\n",
    "x = data[[\"x1\",\"x2\",\"x3\"]]\n",
    "y = data[\"y\"]\n",
    "\n",
    "model = LinearRegression()\n",
    "model_fit = model.fit(x,y)\n",
    "print(model_fit.intercept_)\n",
    "#print(model_fit.coef_)\n",
    "list(zip([\"x1\",\"x2\",\"x3\"],model_fit.coef_))"
   ],
   "metadata": {
    "collapsed": false,
    "pycharm": {
     "name": "#%%\n"
    }
   }
  },
  {
   "cell_type": "code",
   "execution_count": null,
   "outputs": [],
   "source": [],
   "metadata": {
    "collapsed": false,
    "pycharm": {
     "name": "#%%\n"
    }
   }
  }
 ],
 "metadata": {
  "kernelspec": {
   "display_name": "Python 3",
   "language": "python",
   "name": "python3"
  },
  "language_info": {
   "codemirror_mode": {
    "name": "ipython",
    "version": 2
   },
   "file_extension": ".py",
   "mimetype": "text/x-python",
   "name": "python",
   "nbconvert_exporter": "python",
   "pygments_lexer": "ipython2",
   "version": "2.7.6"
  }
 },
 "nbformat": 4,
 "nbformat_minor": 0
}