{
 "cells": [
  {
   "cell_type": "code",
   "execution_count": 4,
   "outputs": [
    {
     "data": {
      "text/plain": "<Figure size 432x288 with 1 Axes>",
      "image/png": "[encoded data removed]"
     },
     "metadata": {
      "needs_background": "light"
     },
     "output_type": "display_data"
    }
   ],
   "source": [
    "import pandas as pd\n",
    "import matplotlib.pyplot as plt\n",
    "dat = pd.read_csv(\"datasets/SSD dataset.csv\")\n",
    "dat.plot(kind = 'scatter', x = 'price', y = 'read')\n",
    "plt.show()"
   ],
   "metadata": {
    "collapsed": false,
    "pycharm": {
     "name": "#%%\n"
    }
   }
  },
  {
   "cell_type": "code",
   "execution_count": 1,
   "outputs": [
    {
     "name": "stdout",
     "output_type": "stream",
     "text": [
      "       Brand            name   Interface  Protocol  capacity (G)  read  write  \\\n",
      "0    Samsung         980 PRO  PCIe 4.0x4  NVMe M.2           500  6900   5000   \n",
      "1    Samsung         980 PRO  PCIe 4.0x4  NVMe M.2          1000  7000   5000   \n",
      "2    Samsung         980 PRO  PCIe 4.0x4  NVMe M.2          2000  7000   5100   \n",
      "3    Samsung    970 EVO plus  PCIe 3.0x4  NVMe M.2           250  3500   2300   \n",
      "4    Samsung    970 EVO plus  PCIe 3.0x4  NVMe M.2           500  3500   3200   \n",
      "..       ...             ...         ...       ...           ...   ...    ...   \n",
      "117    Aorus   NVMe Gen4 SSD  PCIe 4.0x4  NVMe M.2          2000  5000   4400   \n",
      "118    Aorus        Gen4 SSD  PCIe 4.0x4  NVMe M.2           500  5000   2500   \n",
      "119    Aorus        Gen4 SSD  PCIe 4.0x4  NVMe M.2          1000  5000   4400   \n",
      "120    Aorus  Gen4 7000s SSD  PCIe 4.0x4  NVMe M.2          1000  7000   5500   \n",
      "121    Aorus  Gen4 7000s SSD  PCIe 4.0x4  NVMe M.2          2000  7000   6850   \n",
      "\n",
      "      TBW   price  \n",
      "0     600   699.0  \n",
      "1     600  1199.0  \n",
      "2     600  2499.0  \n",
      "3     150   319.0  \n",
      "4     300   429.0  \n",
      "..    ...     ...  \n",
      "117  3600  1499.0  \n",
      "118   850   559.0  \n",
      "119  1800   769.0  \n",
      "120   700  1099.0  \n",
      "121  1400  2099.0  \n",
      "\n",
      "[122 rows x 9 columns]\n"
     ]
    }
   ],
   "source": [
    "import pandas as pd\n",
    "da = pd.read_csv(\"datasets/SSD dataset.csv\")\n",
    "print(da)"
   ],
   "metadata": {
    "collapsed": false,
    "pycharm": {
     "name": "#%%\n"
    }
   }
  },
  {
   "cell_type": "code",
   "execution_count": null,
   "outputs": [],
   "source": [],
   "metadata": {
    "collapsed": false,
    "pycharm": {
     "name": "#%%\n"
    }
   }
  }
 ],
 "metadata": {
  "kernelspec": {
   "display_name": "Python 3",
   "language": "python",
   "name": "python3"
  },
  "language_info": {
   "codemirror_mode": {
    "name": "ipython",
    "version": 2
   },
   "file_extension": ".py",
   "mimetype": "text/x-python",
   "name": "python",
   "nbconvert_exporter": "python",
   "pygments_lexer": "ipython2",
   "version": "2.7.6"
  }
 },
 "nbformat": 4,
 "nbformat_minor": 0
}